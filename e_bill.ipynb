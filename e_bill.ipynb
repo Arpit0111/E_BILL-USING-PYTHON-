{
 "cells": [
  {
   "cell_type": "code",
   "execution_count": 8,
   "id": "4e1bef12-77b3-424f-9c90-7cc96f8c46b2",
   "metadata": {},
   "outputs": [],
   "source": [
    "import qrcode\n",
    "from PIL import Image\n",
    "from IPython.display  import display\n",
    "from datetime import datetime"
   ]
  },
  {
   "cell_type": "code",
   "execution_count": 13,
   "id": "0f33d293-a9f2-4088-817a-71d6676ba79f",
   "metadata": {
    "scrolled": true
   },
   "outputs": [
    {
     "name": "stdin",
     "output_type": "stream",
     "text": [
      "Enter the Customer Name: YYY\n",
      "Enter the Product  ID: XYZ\n",
      "Enter the Mobile Number of customer: 8877998877\n",
      "Enter the products : YYYY\n",
      "Enter amount of the products : 66778\n"
     ]
    },
    {
     "name": "stdout",
     "output_type": "stream",
     "text": [
      "                       \n",
      "                       \n",
      "E_BILL GENERATED \n",
      "    -----                   \n",
      "------E_BILL OF MR/MS YYY\n",
      "---------------Date: 2/09/2025\n",
      "-----------Product ID:  XYZ\n",
      "--------Mobile number: 8877998877\n",
      "----------Product is: YYYY\n",
      "        ----------               \n",
      "Ammount is---------: 66778.0\n",
      "18% Gst -----------₹ 12020.039999999999\n",
      "Billing Ammount is ₹ 78798.04\n",
      "Gst Discount -------₹ 78798.04 -₹ 12020.039999999999\n",
      "Payble Ammount----- ₹ 66778.0\n",
      "                          THANK YOU FOR SHOPING  \n"
     ]
    },
    {
     "name": "stdin",
     "output_type": "stream",
     "text": [
      "Are you want  pay online YES/NO  yes\n"
     ]
    },
    {
     "name": "stdout",
     "output_type": "stream",
     "text": [
      "PAY NOW\n"
     ]
    },
    {
     "data": {
      "image/jpeg": "[encoded data removed]",
      "image/png": "[encoded data removed]",
      "text/plain": [
       "<PIL.Image.Image image mode=1 size=100x100>"
      ]
     },
     "metadata": {},
     "output_type": "display_data"
    },
    {
     "name": "stdout",
     "output_type": "stream",
     "text": [
      "₹ 66778.0\n"
     ]
    }
   ],
   "source": [
    "Name=input(\"Enter the Customer Name:\")\n",
    "coop=(input(\"Enter the Product  ID:\"))\n",
    "mob=int(input(\"Enter the Mobile Number of customer:\"))\n",
    "product=input(\"Enter the products :\")\n",
    "\n",
    "\n",
    "\n",
    "try:\n",
    "    prise=float(input(\"Enter amount of the products :\"))\n",
    "except:\n",
    "    print(\"invalid ammount !!!\")\n",
    "    prise=0\n",
    "print(\"                       \")\n",
    "print(\"                       \")\n",
    "print(\"E_BILL GENERATED \")\n",
    "print(\"    -----                   \")\n",
    "\n",
    "\n",
    "\n",
    "print(\"------E_BILL OF MR/MS\",Name)\n",
    "print(\"---------------Date:\",date)\n",
    "print(\"-----------Product ID: \",coop)\n",
    "print(\"--------Mobile number:\",mob)\n",
    "print(\"----------Product is:\",product)\n",
    "Gst=prise/100*18\n",
    "\n",
    "print(\"        ----------               \")\n",
    "\n",
    "\n",
    "print(\"Ammount is---------:\",prise)\n",
    "print(\"18% Gst -----------₹\",Gst)\n",
    "amm=Gst+prise\n",
    "print(\"Billing Ammount is ₹\",amm)\n",
    "dis=amm-Gst\n",
    "print(\"Gst Discount -------₹\",amm,\"-₹\",Gst)\n",
    "print(\"Payble Ammount----- ₹\",dis) \n",
    "print(\"                          THANK YOU FOR SHOPING  \")\n",
    "\n",
    "payif=input(\"Are you want  pay online YES/NO \")\n",
    "if(payif==\"yes\"):\n",
    "    upi_id=(\"Arpitpandey0222@ybl\")\n",
    "    NAME=(\"Arpit Pandey\")\n",
    "    data=f\"upi://pay?pa=arpitpandey0222-3@oksbi&pn=Arpit%20Pandey&am={dis}&cu=INR&aid=uGICAgICfrdjRTw\"\n",
    "    qr=qrcode.make(data)\n",
    "    filename=f\"upi_qr_{dis}.png\"\n",
    "    qr.save(filename)\n",
    "    print(\"PAY NOW\",)\n",
    "    img = Image.open(filename)\n",
    "    img=img.resize((100,100),Image.LANCZOS)\n",
    "    display(img)\n",
    "    print(\"₹\",dis)\n",
    "\n",
    "\n",
    "else:\n",
    "     print(\"Please pay ammount using CAsh or Cards \")\n",
    "\n",
    "    \n",
    "\n",
    "\n",
    "\n",
    "#GUI INTERN \n",
    "\n"
   ]
  },
  {
   "cell_type": "code",
   "execution_count": null,
   "id": "38e565c5-904d-4f6d-b22e-8c192454c1aa",
   "metadata": {},
   "outputs": [],
   "source": [
    "import tkinter as tk\n",
    "from tkinter import messagebox\n",
    "import qrcode\n",
    "from PIL import Image, ImageTk\n",
    "\n",
    "def generate_bill():\n",
    "    name = name_entry.get()\n",
    "    product_id = pid_entry.get()\n",
    "    mobile = mob_entry.get()\n",
    "    product = product_entry.get()\n",
    "    \n",
    "    try:\n",
    "        price = float(price_entry.get())\n",
    "    except:\n",
    "        messagebox.showerror(\"Invalid Input\", \"Price must be a number\")\n",
    "        return\n",
    "\n",
    "    gst = price * 0.18\n",
    "    total = price + gst\n",
    "    discount = total - gst\n",
    "\n",
    "    pay_mode = payment_var.get()  # 👈 Yes or No selected value\n",
    "\n",
    "    # Clear output\n",
    "    output_text.delete(1.0, tk.END)\n",
    "\n",
    "    # Show bill\n",
    "    output_text.insert(tk.END, f\"------ E-BILL OF MR/MS {name} ------\\n\\n\")\n",
    "    output_text.insert(tk.END, f\"Product ID: {product_id}\\n\")\n",
    "    output_text.insert(tk.END, f\"Mobile Number: {mobile}\\n\")\n",
    "    output_text.insert(tk.END, f\"Product: {product}\\n\")\n",
    "    output_text.insert(tk.END, f\"Amount: ₹{price}\\n\")\n",
    "    output_text.insert(tk.END, f\"GST (18%): ₹{gst}\\n\")\n",
    "    output_text.insert(tk.END, f\"Total Billing Amount: ₹{total}\\n\")\n",
    "    output_text.insert(tk.END, f\"Payable Amount: ₹{discount}\\n\\n\")\n",
    "\n",
    "    if pay_mode == \"Yes\":\n",
    "        data = f\"upi://pay?pa=arpitpandey0222-3@oksbi&pn=Arpit%20Pandey&am={discount}&cu=INR&aid=uGICAgICfrdjRTw\"\n",
    "        qr = qrcode.make(data)\n",
    "        qr = qr.resize((100, 100), Image.LANCZOS)\n",
    "        qr_img = ImageTk.PhotoImage(qr)\n",
    "        qr_label.config(image=qr_img)\n",
    "        qr_label.image = qr_img\n",
    "        output_text.insert(tk.END, \"🔗 Please Scan QR Code to Pay\\n\")\n",
    "    else:\n",
    "        qr_label.config(image=\"\")  # Hide QR\n",
    "        qr_label.image = None\n",
    "        output_text.insert(tk.END, \"💳 Payment Done by Cash or Card\\n\")\n",
    "\n",
    "# GUI Window\n",
    "root = tk.Tk()\n",
    "root.title(\"E-Bill Generator  Power by Arp_Elc.\")\n",
    "root.geometry(\"500x750\")\n",
    "\n",
    "# Input Fields\n",
    "tk.Label(root, text=\"Customer Name\").pack()\n",
    "name_entry = tk.Entry(root)\n",
    "name_entry.pack()\n",
    "\n",
    "tk.Label(root, text=\"Product ID\").pack()\n",
    "pid_entry = tk.Entry(root)\n",
    "pid_entry.pack()\n",
    "\n",
    "tk.Label(root, text=\"Mobile Number\").pack()\n",
    "mob_entry = tk.Entry(root)\n",
    "mob_entry.pack()\n",
    "\n",
    "tk.Label(root, text=\"Product Name\").pack()\n",
    "product_entry = tk.Entry(root)\n",
    "product_entry.pack()\n",
    "\n",
    "tk.Label(root, text=\"Price\").pack()\n",
    "price_entry = tk.Entry(root)\n",
    "price_entry.pack()\n",
    "\n",
    "# Payment Mode\n",
    "tk.Label(root, text=\"Do you want to pay online?\").pack()\n",
    "payment_var = tk.StringVar()\n",
    "payment_var.set(\"No\")  # default\n",
    "tk.Radiobutton(root, text=\"Yes\", variable=payment_var, value=\"Yes\").pack()\n",
    "tk.Radiobutton(root, text=\"No\", variable=payment_var, value=\"No\").pack()\n",
    "\n",
    "# Generate Button\n",
    "tk.Button(root, text=\"Generate Bill\", command=generate_bill).pack(pady=10)\n",
    "\n",
    "# Output Text Area\n",
    "output_text = tk.Text(root, height=15, width=60)\n",
    "output_text.pack()\n",
    "\n",
    "# QR Code Label\n",
    "qr_label = tk.Label(root)\n",
    "qr_label.pack()\n",
    "\n",
    "root.mainloop()\n"
   ]
  },
  {
   "cell_type": "code",
   "execution_count": null,
   "id": "52a041ad-59d7-4b1a-bd91-7cfdd22e4346",
   "metadata": {},
   "outputs": [],
   "source": [
    "THANK YOU !\n"
   ]
  }
 ],
 "metadata": {
  "kernelspec": {
   "display_name": "Python 3 (ipykernel)",
   "language": "python",
   "name": "python3"
  },
  "language_info": {
   "codemirror_mode": {
    "name": "ipython",
    "version": 3
   },
   "file_extension": ".py",
   "mimetype": "text/x-python",
   "name": "python",
   "nbconvert_exporter": "python",
   "pygments_lexer": "ipython3",
   "version": "3.10.11"
  }
 },
 "nbformat": 4,
 "nbformat_minor": 5
}
